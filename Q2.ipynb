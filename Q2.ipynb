{
 "cells": [
  {
   "cell_type": "code",
   "execution_count": null,
   "id": "3c690113",
   "metadata": {},
   "outputs": [],
   "source": [
    "The current age (in years) of 400 clerical employees at an insurance claims processing center is\n",
    "normally distributed with mean μ = 38 and Standard deviation σ =6.\n",
    "For each statement below, please specify True/False. If false, briefly explain why."
   ]
  },
  {
   "cell_type": "code",
   "execution_count": null,
   "id": "72f3bca1",
   "metadata": {},
   "outputs": [],
   "source": [
    "A)More employees at the processing center are older than 44 than between 38 and 44.\n",
    "Ans:-- False"
   ]
  },
  {
   "cell_type": "code",
   "execution_count": 27,
   "id": "6e5c3c37",
   "metadata": {},
   "outputs": [
    {
     "data": {
      "text/plain": [
       "0.15865525393145707"
      ]
     },
     "execution_count": 27,
     "metadata": {},
     "output_type": "execute_result"
    }
   ],
   "source": [
    "#probability of men getting older than44\n",
    "1 - stats.norm.cdf(44,loc=38,scale=6)"
   ]
  },
  {
   "cell_type": "code",
   "execution_count": 30,
   "id": "346dfc30",
   "metadata": {},
   "outputs": [
    {
     "data": {
      "text/plain": [
       "0.3413447460685429"
      ]
     },
     "execution_count": 30,
     "metadata": {},
     "output_type": "execute_result"
    }
   ],
   "source": [
    "#probability of men getting older than 38 and 44\n",
    "stats.norm.cdf(44,loc=38,scale=6) - stats.norm.cdf(38,loc=38,scale=6)"
   ]
  },
  {
   "cell_type": "code",
   "execution_count": null,
   "id": "7d08ba2b",
   "metadata": {},
   "outputs": [],
   "source": []
  },
  {
   "cell_type": "code",
   "execution_count": null,
   "id": "3fa95622",
   "metadata": {},
   "outputs": [],
   "source": [
    "A training program for employees under the age of 30 at the center would be expected to attract about 36 employees.\n",
    "True"
   ]
  },
  {
   "cell_type": "code",
   "execution_count": 32,
   "id": "62f8ad79",
   "metadata": {},
   "outputs": [
    {
     "data": {
      "text/plain": [
       "0.09121121972586788"
      ]
     },
     "execution_count": 32,
     "metadata": {},
     "output_type": "execute_result"
    }
   ],
   "source": [
    "stats.norm.cdf(30,loc=38,scale=6)"
   ]
  },
  {
   "cell_type": "code",
   "execution_count": 33,
   "id": "7260cb1c",
   "metadata": {},
   "outputs": [
    {
     "data": {
      "text/plain": [
       "36.484487890347154"
      ]
     },
     "execution_count": 33,
     "metadata": {},
     "output_type": "execute_result"
    }
   ],
   "source": [
    "# No. of employees attending training program from 400 nos. is N*P(X<30)\n",
    "400*stats.norm.cdf(30,38,6)"
   ]
  },
  {
   "cell_type": "code",
   "execution_count": null,
   "id": "e39ef872",
   "metadata": {},
   "outputs": [],
   "source": []
  }
 ],
 "metadata": {
  "kernelspec": {
   "display_name": "Python 3 (ipykernel)",
   "language": "python",
   "name": "python3"
  },
  "language_info": {
   "codemirror_mode": {
    "name": "ipython",
    "version": 3
   },
   "file_extension": ".py",
   "mimetype": "text/x-python",
   "name": "python",
   "nbconvert_exporter": "python",
   "pygments_lexer": "ipython3",
   "version": "3.9.12"
  }
 },
 "nbformat": 4,
 "nbformat_minor": 5
}
